{
 "cells": [
  {
   "cell_type": "code",
   "execution_count": 25,
   "metadata": {},
   "outputs": [],
   "source": [
    "import numpy\n",
    "from tensorflow import keras\n",
    "from keras.constraints import maxnorm\n",
    "from keras.utils import np_utils"
   ]
  },
  {
   "cell_type": "code",
   "execution_count": 26,
   "metadata": {},
   "outputs": [],
   "source": [
    "# Set random seed for purposes of reproducibility\n",
    "seed = 21"
   ]
  },
  {
   "cell_type": "code",
   "execution_count": 27,
   "metadata": {},
   "outputs": [],
   "source": [
    "from keras.datasets import cifar10\n",
    "(X_train, y_train), (X_test, y_test) = cifar10.load_data()"
   ]
  },
  {
   "cell_type": "code",
   "execution_count": 31,
   "metadata": {},
   "outputs": [
    {
     "name": "stdout",
     "output_type": "stream",
     "text": [
      "50000 50000 10000 10000\n"
     ]
    }
   ],
   "source": [
    "print(len(X_train),len(y_train),len(X_test),len(y_test))"
   ]
  },
  {
   "cell_type": "code",
   "execution_count": 32,
   "metadata": {},
   "outputs": [],
   "source": [
    "# Normalize the inputs from 0-255 to between 0 and 1 by dividing by 255\n",
    "X_train = X_train.astype('float32')\n",
    "X_test = X_test.astype('float32')\n",
    "X_train = X_train / 255.0\n",
    "X_test = X_test / 255.0"
   ]
  },
  {
   "cell_type": "markdown",
   "metadata": {},
   "source": [
    "Images can't be used by the network as they are, they need to be encoded first and one-hot encoding is best used when doing binary classification"
   ]
  },
  {
   "cell_type": "code",
   "execution_count": 33,
   "metadata": {},
   "outputs": [],
   "source": [
    "# One-hot encode outputs using to_categorical\n",
    "y_train = np_utils.to_categorical(y_train)\n",
    "y_test = np_utils.to_categorical(y_test)\n",
    "# number of classes in dataset=10\n",
    "class_num = y_test.shape[1]"
   ]
  },
  {
   "cell_type": "markdown",
   "metadata": {},
   "source": [
    "Use Sequential model format from Keras"
   ]
  },
  {
   "cell_type": "markdown",
   "metadata": {},
   "source": [
    "CNN Block-1\n",
    "1. Convolutional layer\n",
    "    - number of channels/filters = 32\n",
    "    - size of the filter =  3 x 3\n",
    "    - padding='same' we aren't changing the size of the image at all\n",
    "    - Activation= relu\n",
    "2. Dropout layer\n",
    "    - pooling\n",
    "    - eliminate few connections bw layers=20% of the connection\n",
    "3. Batch normalization layer\n",
    "    - normalizes the inputs heading into the next layer"
   ]
  },
  {
   "cell_type": "code",
   "execution_count": 46,
   "metadata": {},
   "outputs": [],
   "source": [
    "# model = keras.Sequential()\n",
    "# model.add(keras.layers.layer1)\n",
    "# model.add(keras.layers.layer2)\n",
    "# model.add(keras.layers.layer3)\n",
    "\n",
    "model = keras.Sequential()\n",
    "model.add(keras.layers.Conv2D(32, 3, input_shape=(32, 32, 3), activation='relu', padding='same'))\n",
    "model.add(keras.layers.Dropout(0.2))\n",
    "model.add(keras.layers.BatchNormalization())"
   ]
  },
  {
   "cell_type": "markdown",
   "metadata": {},
   "source": [
    "CNN Block-2\n",
    "- Convolutional layer with large filter\n",
    "- Pooling layer that downsamples the images using MaxPooling"
   ]
  },
  {
   "cell_type": "code",
   "execution_count": 47,
   "metadata": {},
   "outputs": [],
   "source": [
    "model.add(keras.layers.Conv2D(64, 3, activation='relu', padding='same'))\n",
    "model.add(keras.layers.MaxPooling2D(2))\n",
    "model.add(keras.layers.Dropout(0.2))\n",
    "model.add(keras.layers.BatchNormalization())"
   ]
  },
  {
   "cell_type": "markdown",
   "metadata": {},
   "source": [
    "CNN Block-3"
   ]
  },
  {
   "cell_type": "code",
   "execution_count": 48,
   "metadata": {},
   "outputs": [],
   "source": [
    "model.add(keras.layers.Conv2D(128, 3, activation='relu', padding='same'))\n",
    "model.add(keras.layers.Dropout(0.2))\n",
    "model.add(keras.layers.BatchNormalization())"
   ]
  },
  {
   "cell_type": "markdown",
   "metadata": {},
   "source": [
    "CNN Block- 4 \n",
    "- Flatten to compress all the layers"
   ]
  },
  {
   "cell_type": "code",
   "execution_count": 49,
   "metadata": {},
   "outputs": [],
   "source": [
    "model.add(keras.layers.Flatten())\n",
    "model.add(keras.layers.Dropout(0.2))"
   ]
  },
  {
   "cell_type": "markdown",
   "metadata": {},
   "source": [
    "CNN Block- 5 \n",
    "- Densely connect the layers with 32 neurons"
   ]
  },
  {
   "cell_type": "code",
   "execution_count": 50,
   "metadata": {},
   "outputs": [],
   "source": [
    "model.add(keras.layers.Dense(32, activation='relu'))\n",
    "model.add(keras.layers.Dropout(0.3))\n",
    "model.add(keras.layers.BatchNormalization())"
   ]
  },
  {
   "cell_type": "markdown",
   "metadata": {},
   "source": [
    "CNN Block-6\n",
    "- Dense layer with number of neurons equal to number of classes\n",
    "- output of this layer will be a 10 neuron vector with each neuron storing some probability that the image in question belongs to the class it represents."
   ]
  },
  {
   "cell_type": "code",
   "execution_count": 51,
   "metadata": {},
   "outputs": [],
   "source": [
    "model.add(keras.layers.Dense(class_num, activation='softmax'))"
   ]
  },
  {
   "cell_type": "markdown",
   "metadata": {},
   "source": [
    "Compile the model with ADAM optimizer"
   ]
  },
  {
   "cell_type": "code",
   "execution_count": 52,
   "metadata": {},
   "outputs": [],
   "source": [
    "model.compile(loss='categorical_crossentropy', optimizer='adam', metrics=['accuracy'])"
   ]
  },
  {
   "cell_type": "code",
   "execution_count": 53,
   "metadata": {},
   "outputs": [
    {
     "name": "stdout",
     "output_type": "stream",
     "text": [
      "Model: \"sequential_3\"\n",
      "_________________________________________________________________\n",
      " Layer (type)                Output Shape              Param #   \n",
      "=================================================================\n",
      " conv2d_7 (Conv2D)           (None, 32, 32, 32)        896       \n",
      "                                                                 \n",
      " dropout_11 (Dropout)        (None, 32, 32, 32)        0         \n",
      "                                                                 \n",
      " batch_normalization_9 (Batc  (None, 32, 32, 32)       128       \n",
      " hNormalization)                                                 \n",
      "                                                                 \n",
      " conv2d_8 (Conv2D)           (None, 32, 32, 64)        18496     \n",
      "                                                                 \n",
      " max_pooling2d_2 (MaxPooling  (None, 16, 16, 64)       0         \n",
      " 2D)                                                             \n",
      "                                                                 \n",
      " dropout_12 (Dropout)        (None, 16, 16, 64)        0         \n",
      "                                                                 \n",
      " batch_normalization_10 (Bat  (None, 16, 16, 64)       256       \n",
      " chNormalization)                                                \n",
      "                                                                 \n",
      " conv2d_9 (Conv2D)           (None, 16, 16, 128)       73856     \n",
      "                                                                 \n",
      " dropout_13 (Dropout)        (None, 16, 16, 128)       0         \n",
      "                                                                 \n",
      " batch_normalization_11 (Bat  (None, 16, 16, 128)      512       \n",
      " chNormalization)                                                \n",
      "                                                                 \n",
      " flatten_2 (Flatten)         (None, 32768)             0         \n",
      "                                                                 \n",
      " dropout_14 (Dropout)        (None, 32768)             0         \n",
      "                                                                 \n",
      " dense_4 (Dense)             (None, 32)                1048608   \n",
      "                                                                 \n",
      " dropout_15 (Dropout)        (None, 32)                0         \n",
      "                                                                 \n",
      " batch_normalization_12 (Bat  (None, 32)               128       \n",
      " chNormalization)                                                \n",
      "                                                                 \n",
      " dense_5 (Dense)             (None, 10)                330       \n",
      "                                                                 \n",
      "=================================================================\n",
      "Total params: 1,143,210\n",
      "Trainable params: 1,142,698\n",
      "Non-trainable params: 512\n",
      "_________________________________________________________________\n",
      "None\n"
     ]
    }
   ],
   "source": [
    "print(model.summary())"
   ]
  },
  {
   "cell_type": "markdown",
   "metadata": {},
   "source": [
    "Train model using fit() and save the history\n",
    "- batch_size= how much of the dataset is passed\n",
    "- epoch= passing a part of dataset in 1 cycle"
   ]
  },
  {
   "cell_type": "code",
   "execution_count": 54,
   "metadata": {},
   "outputs": [
    {
     "name": "stdout",
     "output_type": "stream",
     "text": [
      "Epoch 1/25\n",
      "782/782 [==============================] - 377s 381ms/step - loss: 1.5264 - accuracy: 0.4572 - val_loss: 1.1225 - val_accuracy: 0.6071\n",
      "Epoch 2/25\n",
      "782/782 [==============================] - 291s 372ms/step - loss: 1.1029 - accuracy: 0.6166 - val_loss: 0.9823 - val_accuracy: 0.6572\n",
      "Epoch 3/25\n",
      "782/782 [==============================] - 291s 373ms/step - loss: 0.9566 - accuracy: 0.6687 - val_loss: 0.9386 - val_accuracy: 0.6739\n",
      "Epoch 4/25\n",
      "782/782 [==============================] - 292s 374ms/step - loss: 0.8574 - accuracy: 0.7024 - val_loss: 0.8983 - val_accuracy: 0.6899\n",
      "Epoch 5/25\n",
      "782/782 [==============================] - 294s 376ms/step - loss: 0.7876 - accuracy: 0.7270 - val_loss: 0.7709 - val_accuracy: 0.7379\n",
      "Epoch 6/25\n",
      "782/782 [==============================] - 295s 378ms/step - loss: 0.7218 - accuracy: 0.7488 - val_loss: 0.9214 - val_accuracy: 0.6894\n",
      "Epoch 7/25\n",
      "782/782 [==============================] - 309s 395ms/step - loss: 0.6772 - accuracy: 0.7619 - val_loss: 0.7564 - val_accuracy: 0.7430\n",
      "Epoch 8/25\n",
      "782/782 [==============================] - 283s 361ms/step - loss: 0.6331 - accuracy: 0.7805 - val_loss: 0.7589 - val_accuracy: 0.7381\n",
      "Epoch 9/25\n",
      "782/782 [==============================] - 284s 363ms/step - loss: 0.5967 - accuracy: 0.7885 - val_loss: 0.8876 - val_accuracy: 0.7077\n",
      "Epoch 10/25\n",
      "782/782 [==============================] - 291s 372ms/step - loss: 0.5679 - accuracy: 0.8006 - val_loss: 0.7891 - val_accuracy: 0.7351\n",
      "Epoch 11/25\n",
      "782/782 [==============================] - 286s 366ms/step - loss: 0.5375 - accuracy: 0.8112 - val_loss: 0.7354 - val_accuracy: 0.7550\n",
      "Epoch 12/25\n",
      "782/782 [==============================] - 284s 364ms/step - loss: 0.5167 - accuracy: 0.8174 - val_loss: 0.7360 - val_accuracy: 0.7580\n",
      "Epoch 13/25\n",
      "782/782 [==============================] - 285s 364ms/step - loss: 0.4981 - accuracy: 0.8242 - val_loss: 0.7351 - val_accuracy: 0.7582\n",
      "Epoch 14/25\n",
      "782/782 [==============================] - 285s 365ms/step - loss: 0.4698 - accuracy: 0.8329 - val_loss: 0.6840 - val_accuracy: 0.7748\n",
      "Epoch 15/25\n",
      "782/782 [==============================] - 283s 362ms/step - loss: 0.4519 - accuracy: 0.8374 - val_loss: 0.6968 - val_accuracy: 0.7781\n",
      "Epoch 16/25\n",
      "782/782 [==============================] - 283s 362ms/step - loss: 0.4400 - accuracy: 0.8433 - val_loss: 0.7451 - val_accuracy: 0.7603\n",
      "Epoch 17/25\n",
      "782/782 [==============================] - 283s 362ms/step - loss: 0.4249 - accuracy: 0.8475 - val_loss: 0.6947 - val_accuracy: 0.7780\n",
      "Epoch 18/25\n",
      "782/782 [==============================] - 281s 360ms/step - loss: 0.4121 - accuracy: 0.8524 - val_loss: 0.7266 - val_accuracy: 0.7735\n",
      "Epoch 19/25\n",
      "782/782 [==============================] - 285s 364ms/step - loss: 0.4074 - accuracy: 0.8540 - val_loss: 0.7684 - val_accuracy: 0.7669\n",
      "Epoch 20/25\n",
      "782/782 [==============================] - 281s 359ms/step - loss: 0.3892 - accuracy: 0.8619 - val_loss: 0.7435 - val_accuracy: 0.7711\n",
      "Epoch 21/25\n",
      "782/782 [==============================] - 281s 360ms/step - loss: 0.3867 - accuracy: 0.8614 - val_loss: 0.6891 - val_accuracy: 0.7835\n",
      "Epoch 22/25\n",
      "782/782 [==============================] - 283s 361ms/step - loss: 0.3780 - accuracy: 0.8631 - val_loss: 0.7543 - val_accuracy: 0.7717\n",
      "Epoch 23/25\n",
      "782/782 [==============================] - 285s 365ms/step - loss: 0.3685 - accuracy: 0.8681 - val_loss: 0.7438 - val_accuracy: 0.7703\n",
      "Epoch 24/25\n",
      "782/782 [==============================] - 281s 360ms/step - loss: 0.3610 - accuracy: 0.8711 - val_loss: 0.7144 - val_accuracy: 0.7806\n",
      "Epoch 25/25\n",
      "782/782 [==============================] - 283s 362ms/step - loss: 0.3536 - accuracy: 0.8737 - val_loss: 0.7232 - val_accuracy: 0.7825\n"
     ]
    }
   ],
   "source": [
    "numpy.random.seed(seed)\n",
    "history = model.fit(X_train, y_train, validation_data=(X_test, y_test), epochs=25, batch_size=64)"
   ]
  },
  {
   "cell_type": "code",
   "execution_count": 55,
   "metadata": {},
   "outputs": [
    {
     "name": "stdout",
     "output_type": "stream",
     "text": [
      "Accuracy: 78.25%\n"
     ]
    }
   ],
   "source": [
    "# Model evaluation\n",
    "scores = model.evaluate(X_test, y_test, verbose=0)\n",
    "print(\"Accuracy: %.2f%%\" % (scores[1]*100))"
   ]
  },
  {
   "cell_type": "code",
   "execution_count": 56,
   "metadata": {},
   "outputs": [
    {
     "data": {
      "image/png": "[encoded data removed]",
      "text/plain": [
       "<Figure size 432x288 with 1 Axes>"
      ]
     },
     "metadata": {
      "needs_background": "light"
     },
     "output_type": "display_data"
    }
   ],
   "source": [
    "import pandas as pd\n",
    "import matplotlib.pyplot as plt\n",
    "\n",
    "pd.DataFrame(history.history).plot()\n",
    "plt.show()"
   ]
  }
 ],
 "metadata": {
  "kernelspec": {
   "display_name": "Python 3.9.7 ('base')",
   "language": "python",
   "name": "python3"
  },
  "language_info": {
   "codemirror_mode": {
    "name": "ipython",
    "version": 3
   },
   "file_extension": ".py",
   "mimetype": "text/x-python",
   "name": "python",
   "nbconvert_exporter": "python",
   "pygments_lexer": "ipython3",
   "version": "3.9.7"
  },
  "orig_nbformat": 4,
  "vscode": {
   "interpreter": {
    "hash": "ee9dfcf03ef883f799e8db599acd57d78b13ea7c83670eb20ef8000875df171a"
   }
  }
 },
 "nbformat": 4,
 "nbformat_minor": 2
}
